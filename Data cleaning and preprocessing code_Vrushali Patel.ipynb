{
 "cells": [
  {
   "cell_type": "markdown",
   "id": "2c78af1f-3714-4173-8c62-d9378d3535d8",
   "metadata": {},
   "source": [
    "### Importing Datasets"
   ]
  },
  {
   "cell_type": "code",
   "execution_count": 2,
   "id": "0cc654f8-b76c-4241-aa36-11a875725425",
   "metadata": {},
   "outputs": [
    {
     "name": "stdout",
     "output_type": "stream",
     "text": [
      "<class 'pandas.core.frame.DataFrame'>\n",
      "RangeIndex: 3289 entries, 0 to 3288\n",
      "Data columns (total 7 columns):\n",
      " #   Column                                   Non-Null Count  Dtype  \n",
      "---  ------                                   --------------  -----  \n",
      " 0   ActivitySiteID                           3289 non-null   object \n",
      " 1   ActivityDescription                      3289 non-null   object \n",
      " 2   BookingEndDateTime (Month / Day / Year)  3289 non-null   object \n",
      " 3   BookingStartTime                         3289 non-null   object \n",
      " 4   MaxBookees                               3289 non-null   int64  \n",
      " 5   Number Booked                            3289 non-null   int64  \n",
      " 6   Price (INR)                              3271 non-null   float64\n",
      "dtypes: float64(1), int64(2), object(4)\n",
      "memory usage: 180.0+ KB\n",
      "None\n"
     ]
    }
   ],
   "source": [
    "import pandas as pd\n",
    "\n",
    "# Load datasets\n",
    "april_may_data = pd.read_csv(\"D:\\Fitness_Classes_Data (1)\\Fitness Classes Data\\Classes April-May 2018.csv\")\n",
    "june_data = pd.read_csv(\"D:\\Fitness_Classes_Data (1)\\Fitness Classes Data\\Classes June 2018.csv\")\n",
    "\n",
    "# Combine datasets\n",
    "combined_data = pd.concat([april_may_data, june_data], ignore_index=True)\n",
    "\n",
    "# Display combined dataset info\n",
    "print(combined_data.info())"
   ]
  },
  {
   "cell_type": "markdown",
   "id": "cf556d92-ce4b-4097-99ef-b0001da59ea4",
   "metadata": {},
   "source": [
    "### Preprocessing"
   ]
  },
  {
   "cell_type": "code",
   "execution_count": 3,
   "id": "5db0d7f3-01de-4ad1-bc7a-c9d6ae025f96",
   "metadata": {},
   "outputs": [
    {
     "name": "stderr",
     "output_type": "stream",
     "text": [
      "C:\\Users\\VRUSHALI\\AppData\\Local\\Temp\\ipykernel_11752\\4119830071.py:11: UserWarning: Could not infer format, so each element will be parsed individually, falling back to `dateutil`. To ensure parsing is consistent and as-expected, please specify a format.\n",
      "  combined_data['BookingStartTime'] = pd.to_datetime(combined_data['BookingStartTime'], errors='coerce')\n",
      "C:\\Users\\VRUSHALI\\AppData\\Local\\Temp\\ipykernel_11752\\4119830071.py:12: UserWarning: Could not infer format, so each element will be parsed individually, falling back to `dateutil`. To ensure parsing is consistent and as-expected, please specify a format.\n",
      "  combined_data['BookingEndDateTime'] = pd.to_datetime(combined_data['BookingEndDateTime'], errors='coerce')\n"
     ]
    }
   ],
   "source": [
    "# Data Cleaning\n",
    "# Correct column name for 'BookingEndDateTime'\n",
    "combined_data.rename(columns={\n",
    "    'BookingEndDateTime (Month / Day / Year)': 'BookingEndDateTime'\n",
    "}, inplace=True)\n",
    "\n",
    "# Fill missing 'Price (INR)' values with median\n",
    "combined_data['Price (INR)'] = combined_data['Price (INR)'].fillna(combined_data['Price (INR)'].median())\n",
    "\n",
    "# Ensure 'BookingStartTime' and 'BookingEndDateTime' are datetime, handle errors\n",
    "combined_data['BookingStartTime'] = pd.to_datetime(combined_data['BookingStartTime'], errors='coerce')\n",
    "combined_data['BookingEndDateTime'] = pd.to_datetime(combined_data['BookingEndDateTime'], errors='coerce')\n",
    "\n",
    "# Drop rows where 'BookingStartTime' or 'BookingEndDateTime' is invalid (NaT)\n",
    "combined_data.dropna(subset=['BookingStartTime', 'BookingEndDateTime'], inplace=True)"
   ]
  }
 ],
 "metadata": {
  "kernelspec": {
   "display_name": "Python 3 (ipykernel)",
   "language": "python",
   "name": "python3"
  },
  "language_info": {
   "codemirror_mode": {
    "name": "ipython",
    "version": 3
   },
   "file_extension": ".py",
   "mimetype": "text/x-python",
   "name": "python",
   "nbconvert_exporter": "python",
   "pygments_lexer": "ipython3",
   "version": "3.11.7"
  }
 },
 "nbformat": 4,
 "nbformat_minor": 5
}
