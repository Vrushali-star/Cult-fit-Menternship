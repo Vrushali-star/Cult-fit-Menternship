{
 "cells": [
  {
   "cell_type": "markdown",
   "id": "2c78af1f-3714-4173-8c62-d9378d3535d8",
   "metadata": {},
   "source": [
    "### Importing Datasets"
   ]
  },
  {
   "cell_type": "code",
   "execution_count": 2,
   "id": "0cc654f8-b76c-4241-aa36-11a875725425",
   "metadata": {},
   "outputs": [
    {
     "name": "stdout",
     "output_type": "stream",
     "text": [
      "<class 'pandas.core.frame.DataFrame'>\n",
      "RangeIndex: 3289 entries, 0 to 3288\n",
      "Data columns (total 7 columns):\n",
      " #   Column                                   Non-Null Count  Dtype  \n",
      "---  ------                                   --------------  -----  \n",
      " 0   ActivitySiteID                           3289 non-null   object \n",
      " 1   ActivityDescription                      3289 non-null   object \n",
      " 2   BookingEndDateTime (Month / Day / Year)  3289 non-null   object \n",
      " 3   BookingStartTime                         3289 non-null   object \n",
      " 4   MaxBookees                               3289 non-null   int64  \n",
      " 5   Number Booked                            3289 non-null   int64  \n",
      " 6   Price (INR)                              3271 non-null   float64\n",
      "dtypes: float64(1), int64(2), object(4)\n",
      "memory usage: 180.0+ KB\n",
      "None\n"
     ]
    }
   ],
   "source": [
    "import pandas as pd\n",
    "\n",
    "# Load datasets\n",
    "april_may_data = pd.read_csv(\"D:\\Fitness_Classes_Data (1)\\Fitness Classes Data\\Classes April-May 2018.csv\")\n",
    "june_data = pd.read_csv(\"D:\\Fitness_Classes_Data (1)\\Fitness Classes Data\\Classes June 2018.csv\")\n",
    "\n",
    "# Combine datasets\n",
    "combined_data = pd.concat([april_may_data, june_data], ignore_index=True)\n",
    "\n",
    "# Display combined dataset info\n",
    "print(combined_data.info())"
   ]
  },
  {
   "cell_type": "markdown",
   "id": "cf556d92-ce4b-4097-99ef-b0001da59ea4",
   "metadata": {},
   "source": [
    "### Preprocessing"
   ]
  },
  {
   "cell_type": "code",
   "execution_count": 6,
   "id": "5db0d7f3-01de-4ad1-bc7a-c9d6ae025f96",
   "metadata": {},
   "outputs": [],
   "source": [
    "# Data Cleaning\n",
    "# Correct column name for 'BookingEndDateTime'\n",
    "combined_data.rename(columns={\n",
    "    'BookingEndDateTime (Month / Day / Year)': 'BookingEndDateTime'\n",
    "}, inplace=True)\n",
    "\n",
    "# Fill missing 'Price (INR)' values with median\n",
    "combined_data['Price (INR)'] = combined_data['Price (INR)'].fillna(combined_data['Price (INR)'].median())\n",
    "\n",
    "# Ensure 'BookingStartTime' and 'BookingEndDateTime' are datetime, handle errors\n",
    "combined_data['BookingStartTime'] = pd.to_datetime(combined_data['BookingStartTime'], errors='coerce')\n",
    "combined_data['BookingEndDateTime'] = pd.to_datetime(combined_data['BookingEndDateTime'], errors='coerce')\n",
    "\n",
    "# Drop rows where 'BookingStartTime' or 'BookingEndDateTime' is invalid (NaT)\n",
    "combined_data.dropna(subset=['BookingStartTime', 'BookingEndDateTime'], inplace=True)"
   ]
  },
  {
   "cell_type": "markdown",
   "id": "5611e155-24b6-4b4c-8d7c-606d9868c0ed",
   "metadata": {},
   "source": [
    "### Feature Engineering"
   ]
  },
  {
   "cell_type": "code",
   "execution_count": 7,
   "id": "fd243844-0b58-4e32-9f61-0365794af8c2",
   "metadata": {},
   "outputs": [],
   "source": [
    "# Extract relevant features from 'BookingStartTime' and 'BookingEndDateTime'\n",
    "combined_data['Month'] = combined_data['BookingStartTime'].dt.month\n",
    "combined_data['DayOfWeek'] = combined_data['BookingStartTime'].dt.day_name()\n",
    "combined_data['StartHour'] = combined_data['BookingStartTime'].dt.hour\n",
    "\n",
    "# Ensure 'Number Booked' and 'MaxBookees' are numeric\n",
    "combined_data['Number Booked'] = pd.to_numeric(combined_data['Number Booked'], errors='coerce')\n",
    "combined_data['MaxBookees'] = pd.to_numeric(combined_data['MaxBookees'], errors='coerce')\n",
    "\n",
    "# Calculate 'DemandRatio', handle division by zero or invalid values\n",
    "combined_data['DemandRatio'] = combined_data['Number Booked'] / combined_data['MaxBookees']\n",
    "combined_data['DemandRatio'].replace([float('inf'), -float('inf'), float('nan')], 0, inplace=True)\n",
    "\n",
    "# Calculate 'ClassDuration' in minutes\n",
    "combined_data['ClassDuration'] = (combined_data['BookingEndDateTime'] - combined_data['BookingStartTime']).dt.total_seconds() / 60"
   ]
  },
  {
   "cell_type": "markdown",
   "id": "85f9929c-68e4-495d-9e76-8505b273bd10",
   "metadata": {},
   "source": [
    "### Save and processed dataset"
   ]
  },
  {
   "cell_type": "code",
   "execution_count": 5,
   "id": "4cf55ed2-4193-4ce2-91c9-adc1d4c3714d",
   "metadata": {},
   "outputs": [
    {
     "name": "stdout",
     "output_type": "stream",
     "text": [
      "Processed data saved to 'processed_fitness_data.csv'\n"
     ]
    }
   ],
   "source": [
    "# Save the processed dataset\n",
    "combined_data.to_csv(\"processed_fitness_data.csv\", index=False)\n",
    "\n",
    "# Confirm that the file has been saved\n",
    "print(\"Processed data saved to 'processed_fitness_data.csv'\")"
   ]
  },
  {
   "cell_type": "markdown",
   "id": "5a962cf9-bd1d-4018-beb4-2efc610c171a",
   "metadata": {},
   "source": [
    "### Export cleaned data as .xlsx"
   ]
  },
  {
   "cell_type": "code",
   "execution_count": 17,
   "id": "89dc9a3f-3056-41f5-a88f-0d6cc7092d9a",
   "metadata": {},
   "outputs": [],
   "source": [
    "df = combined_data\n",
    "df.to_excel('cleaned_data_final_VrushaliPatel.xlsx', index=False)"
   ]
  },
  {
   "cell_type": "code",
   "execution_count": 18,
   "id": "35ee2bc3-c8d8-45bb-a63d-cafe29ff04ae",
   "metadata": {},
   "outputs": [
    {
     "name": "stdout",
     "output_type": "stream",
     "text": [
      "C:\\Users\\VRUSHALI\n"
     ]
    }
   ],
   "source": [
    "import os\n",
    "print(os.getcwd())"
   ]
  },
  {
   "cell_type": "code",
   "execution_count": 19,
   "id": "121a72df-6ec7-4e19-97c4-d5c0a9cff99f",
   "metadata": {},
   "outputs": [],
   "source": [
    "df.to_excel(r'C:\\Users\\Vrushali\\Documents\\cleaned_data_final_VrushaliPatel.xlsx', index=False)"
   ]
  },
  {
   "cell_type": "code",
   "execution_count": 20,
   "id": "8cb43fd2-93c2-4f20-938e-0a14ca0833df",
   "metadata": {},
   "outputs": [
    {
     "name": "stdout",
     "output_type": "stream",
     "text": [
      "['.anaconda', '.android', '.bash_history', '.conda', '.condarc', '.continuum', '.emulator_console_auth_token', '.gitconfig', '.gradle', '.idlerc', '.ipynb_checkpoints', '.ipython', '.jupyter', '.librarymanager', '.m2', '.matplotlib', '.templateengine', '.vscode', 'anaconda3', 'AndroidStudioProjects', 'AppData', 'Apple', 'Application Data', 'cleaned_data_final_ VrushaliPatel.xlsx', 'cleaned_data_final_VrushaliPatel.xlsx', 'Cookies', 'Data cleaning and preprocessing code_Vrushali Patel.ipynb', 'Data Type .ipynb', 'Documents', 'EDA.ipynb', 'Favorites', 'Identifiers & Keywords.ipynb', 'Links', 'Local Settings', 'Microsoft', 'Music', 'My Documents', 'NetHood', 'NTUSER.DAT', 'ntuser.dat.LOG1', 'ntuser.dat.LOG2', 'NTUSER.DAT{09b5adac-b044-11ed-b66d-83dd40020272}.TM.blf', 'NTUSER.DAT{09b5adac-b044-11ed-b66d-83dd40020272}.TMContainer00000000000000000001.regtrans-ms', 'NTUSER.DAT{09b5adac-b044-11ed-b66d-83dd40020272}.TMContainer00000000000000000002.regtrans-ms', 'ntuser.ini', 'OneDrive', 'pandas', 'Postman Agent', 'PrintHood', 'processed_fitness_data.csv', 'python basics', 'Recent', 'Saved Games', 'Searches', 'SendTo', 'source', 'Start Menu', 'Templates', 'Tracing', 'Untitled.ipynb', 'Videos', 'vsdbg']\n"
     ]
    }
   ],
   "source": [
    "import os\n",
    "print(os.listdir())"
   ]
  },
  {
   "cell_type": "code",
   "execution_count": null,
   "id": "8c795bcf-9101-4821-aeac-e42bec8ab169",
   "metadata": {},
   "outputs": [],
   "source": []
  }
 ],
 "metadata": {
  "kernelspec": {
   "display_name": "Python 3 (ipykernel)",
   "language": "python",
   "name": "python3"
  },
  "language_info": {
   "codemirror_mode": {
    "name": "ipython",
    "version": 3
   },
   "file_extension": ".py",
   "mimetype": "text/x-python",
   "name": "python",
   "nbconvert_exporter": "python",
   "pygments_lexer": "ipython3",
   "version": "3.11.7"
  }
 },
 "nbformat": 4,
 "nbformat_minor": 5
}
